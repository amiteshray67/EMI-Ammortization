{
  "nbformat": 4,
  "nbformat_minor": 0,
  "metadata": {
    "colab": {
      "provenance": [],
      "authorship_tag": "ABX9TyNjXpVo1EyJjWujUGS9HRpB",
      "include_colab_link": true
    },
    "kernelspec": {
      "name": "python3",
      "display_name": "Python 3"
    },
    "language_info": {
      "name": "python"
    }
  },
  "cells": [
    {
      "cell_type": "markdown",
      "metadata": {
        "id": "view-in-github",
        "colab_type": "text"
      },
      "source": [
        "<a href=\"https://colab.research.google.com/github/amiteshray67/EMI-Ammortization/blob/main/EMI_schedule.ipynb\" target=\"_parent\"><img src=\"https://colab.research.google.com/assets/colab-badge.svg\" alt=\"Open In Colab\"/></a>"
      ]
    },
    {
      "cell_type": "code",
      "source": [
        "import tkinter as tk\n",
        "from tkinter import ttk\n",
        "import pandas as pd"
      ],
      "metadata": {
        "id": "cE_m1Dpzl-Ak"
      },
      "execution_count": null,
      "outputs": []
    },
    {
      "cell_type": "code",
      "execution_count": null,
      "metadata": {
        "colab": {
          "base_uri": "https://localhost:8080/"
        },
        "id": "6wjbbmZygGdP",
        "outputId": "3ea35f9f-b69a-4160-eef1-53032519e9ac"
      },
      "outputs": [
        {
          "output_type": "stream",
          "name": "stdout",
          "text": [
            "Enter the Principle100\n",
            "Enter the interest rate12\n",
            "Enter the tenure in years10\n",
            "     Month  EMI (INR)  Interest (INR)  Principal (INR)  \\\n",
            "0        1       1.43            1.00             0.43   \n",
            "1        2       1.43            1.00             0.44   \n",
            "2        3       1.43            0.99             0.44   \n",
            "3        4       1.43            0.99             0.45   \n",
            "4        5       1.43            0.98             0.45   \n",
            "..     ...        ...             ...              ...   \n",
            "115    116       1.43            0.07             1.37   \n",
            "116    117       1.43            0.06             1.38   \n",
            "117    118       1.43            0.04             1.39   \n",
            "118    119       1.43            0.03             1.41   \n",
            "119    120       1.43            0.01             1.42   \n",
            "\n",
            "     Remaining Principal (INR)  \n",
            "0                        99.57  \n",
            "1                        99.13  \n",
            "2                        98.68  \n",
            "3                        98.23  \n",
            "4                        97.78  \n",
            "..                         ...  \n",
            "115                       5.60  \n",
            "116                       4.22  \n",
            "117                       2.83  \n",
            "118                       1.42  \n",
            "119                       0.00  \n",
            "\n",
            "[120 rows x 5 columns]\n"
          ]
        }
      ],
      "source": [
        "def amortization_schedule_table(principal, annual_interest_rate, tenure_years):\n",
        "    \"\"\"\n",
        "    Generate an amortization schedule in a tabular format.\n",
        "\n",
        "    Parameters:\n",
        "    principal (float): The total amount of the loan.\n",
        "    annual_interest_rate (float): The annual interest rate as a percentage.\n",
        "    tenure_years (int): The tenure of the loan in years.\n",
        "\n",
        "    Returns:\n",
        "    DataFrame: Amortization schedule in a table format.\n",
        "    \"\"\"\n",
        "\n",
        "    #convert\n",
        "    principal=int(principal)\n",
        "    annual_interest_rate=float(annual_interest_rate)\n",
        "    tenure_years=int(tenure_years)\n",
        "\n",
        "    # Monthly interest rate\n",
        "    monthly_interest_rate = annual_interest_rate / (12 * 100)\n",
        "\n",
        "    # Total number of payments\n",
        "    total_payments = tenure_years * 12\n",
        "\n",
        "    # Calculate EMI\n",
        "    emi = principal * monthly_interest_rate * ((1 + monthly_interest_rate)**total_payments) / (((1 + monthly_interest_rate)**total_payments) - 1)\n",
        "\n",
        "    data = []\n",
        "    remaining_principal = principal\n",
        "\n",
        "    for month in range(1, total_payments + 1):\n",
        "        interest_payment = remaining_principal * monthly_interest_rate\n",
        "        principal_payment = emi - interest_payment\n",
        "        remaining_principal -= principal_payment\n",
        "\n",
        "        # Break the loop if remaining principal is less than or equal to zero\n",
        "        if remaining_principal <= 0:\n",
        "            break\n",
        "\n",
        "        data.append({\n",
        "            'Month': month,\n",
        "            'EMI (INR)': round(emi, 2),\n",
        "            'Interest (INR)': round(interest_payment, 2),\n",
        "            'Principal (INR)': round(principal_payment, 2),\n",
        "            'Remaining Principal (INR)': round(remaining_principal, 2)\n",
        "        })\n",
        "\n",
        "    return pd.DataFrame(data)\n",
        "\n",
        "\n",
        "principal = input(\"Enter the Principle\")\n",
        "annual_interest_rate = input(\"Enter the interest rate\")\n",
        "tenure_years = input(\"Enter the tenure in years\")\n",
        "schedule_table = amortization_schedule_table(principal, annual_interest_rate, tenure_years)\n",
        "print(schedule_table)\n",
        "\n"
      ]
    }
  ]
}